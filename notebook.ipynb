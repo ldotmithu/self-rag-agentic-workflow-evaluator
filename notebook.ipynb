{
 "cells": [
  {
   "cell_type": "code",
   "execution_count": 1,
   "id": "31394f6b",
   "metadata": {},
   "outputs": [
    {
     "name": "stderr",
     "output_type": "stream",
     "text": [
      "USER_AGENT environment variable not set, consider setting it to identify your requests.\n"
     ]
    }
   ],
   "source": [
    "from langchain_community.document_loaders.web_base import WebBaseLoader\n",
    "from langchain.text_splitter import RecursiveCharacterTextSplitter\n",
    "from langchain import hub\n",
    "from langchain.vectorstores import Chroma,FAISS\n",
    "from langgraph.graph import END, StateGraph, START\n",
    "from langchain_core.messages import BaseMessage\n",
    "from pydantic import BaseModel,Field\n",
    "from typing_extensions import TypedDict,Annotated,List\n",
    "from dotenv import load_dotenv\n",
    "load_dotenv()\n",
    "\n",
    "from langchain_groq import ChatGroq\n",
    "from langchain_huggingface import HuggingFaceEmbeddings\n",
    "\n",
    "from langchain_core.prompts import ChatPromptTemplate"
   ]
  },
  {
   "cell_type": "code",
   "execution_count": 2,
   "id": "d6653086",
   "metadata": {},
   "outputs": [],
   "source": [
    "URLS =  [\n",
    "    \"https://www.linkedin.com/pulse/parallel-execution-nodes-langgraph-enhancing-your-graph-prateek-qqwrc/\",\n",
    "    \"https://www.linkedin.com/pulse/tool-calling-langchain-do-more-your-ai-agents-saurav-prateek-so20c\",\n",
    "]"
   ]
  },
  {
   "cell_type": "code",
   "execution_count": 3,
   "id": "332c40fb",
   "metadata": {},
   "outputs": [],
   "source": [
    "DOCUMENT_GRADER_PROMPT = \"\"\"\n",
    "    You are a grader assessing relevance of a retrieved document to a user question. \\n \n",
    "    It does not need to be a stringent test. The goal is to filter out erroneous retrievals. \\n\n",
    "    If the document contains keyword(s) or semantic meaning related to the user question, grade it as relevant. \\n\n",
    "    Give a binary score 'yes' or 'no' score to indicate whether the document is relevant to the question.\n",
    "\"\"\"\n",
    "\n",
    "HALLUCINATION_GRADER_PROMPT = \"\"\"\n",
    "    You are a grader assessing whether an LLM generation is grounded in / supported by a set of retrieved facts. \\n \n",
    "\n",
    "    Give a binary score 'yes' or 'no'. 'Yes' means that the answer is grounded in / supported by the set of facts.\n",
    "\"\"\"\n",
    "\n",
    "ANSWER_GRADER_PROMPT = \"\"\"\n",
    "    You are a grader assessing whether an answer addresses / resolves a question \\n \n",
    "    Give a binary score 'yes' or 'no'. Yes' means that the answer resolves the question.\n",
    "\"\"\""
   ]
  },
  {
   "cell_type": "code",
   "execution_count": 4,
   "id": "f34f020c",
   "metadata": {},
   "outputs": [],
   "source": [
    "import os \n",
    "os.environ[\"GROQ_API_KEY\"]= os.getenv(\"GROQ_API_KEY\")"
   ]
  },
  {
   "cell_type": "code",
   "execution_count": 5,
   "id": "0788e26b",
   "metadata": {},
   "outputs": [],
   "source": [
    "class AgentState(TypedDict):\n",
    "    question:str \n",
    "    generation :str \n",
    "    documents:List[str]\n",
    "    model:ChatGroq\n",
    "    vector_store:Chroma\n",
    "    hallucination:bool\n",
    "    valid_answer:bool \n",
    "    \n",
    "class GradeDocuments(BaseModel):\n",
    "    \"\"\"Binary score for relevance check on retrieved documents.\"\"\"\n",
    "\n",
    "    binary_score: str = Field(\n",
    "        description=\"Documents are relevant to the question, 'yes' or 'no'\"\n",
    "    )\n",
    "\n",
    "# Data model for grading hallucinations\n",
    "class GradeHallucinations(BaseModel):\n",
    "    \"\"\"Binary score for hallucination present in generation answer.\"\"\"\n",
    "\n",
    "    binary_score: str = Field(\n",
    "        description=\"Answer is grounded in the facts, 'yes' or 'no'\"\n",
    "    )\n",
    "\n",
    "# Data model for grading the final answer\n",
    "class GradeAnswer(BaseModel):\n",
    "    \"\"\"Binary score to assess answer addresses question.\"\"\"\n",
    "\n",
    "    binary_score: str = Field(\n",
    "        description=\"Answer addresses the question, 'yes' or 'no'\"\n",
    "    )"
   ]
  },
  {
   "cell_type": "code",
   "execution_count": 6,
   "id": "444f19cc",
   "metadata": {},
   "outputs": [],
   "source": [
    "def create_model(state:AgentState):\n",
    "    state['model'] = ChatGroq(model=\"openai/gpt-oss-120b\",temperature=0.3)\n",
    "    return state"
   ]
  },
  {
   "cell_type": "code",
   "execution_count": 7,
   "id": "5c2af91c",
   "metadata": {},
   "outputs": [],
   "source": [
    "def build_vector_store(state:AgentState):\n",
    "    docs = [WebBaseLoader(url).load() for url in URLS]\n",
    "    docs_list = [item for sublist in docs for item in sublist]\n",
    "    \n",
    "    text_splitter = RecursiveCharacterTextSplitter.from_tiktoken_encoder(chunk_size=250,chunk_overlap=0)\n",
    "    \n",
    "    docs_splitter = text_splitter.split_documents(docs_list)\n",
    "    \n",
    "    vector_store = Chroma.from_documents(documents=docs_splitter,\n",
    "                                         embedding=HuggingFaceEmbeddings(),\n",
    "                                         collection_name=\"rag-collection\")\n",
    "    state[\"vector_store\"] = vector_store.as_retriever()\n",
    "    return state"
   ]
  },
  {
   "cell_type": "code",
   "execution_count": 8,
   "id": "3ba13ee5",
   "metadata": {},
   "outputs": [],
   "source": [
    "def get_relevent_document(state:AgentState):\n",
    "    question = state[\"question\"]\n",
    "    vector_store = state[\"vector_store\"]\n",
    "    \n",
    "    documents = vector_store.get_relevant_documents(question)\n",
    "    state[\"documents\"] = documents\n",
    "    return state"
   ]
  },
  {
   "cell_type": "code",
   "execution_count": 9,
   "id": "d327f9b1",
   "metadata": {},
   "outputs": [],
   "source": [
    "def grade_document(state:AgentState):\n",
    "    question = state[\"question\"]\n",
    "    documents =state[\"documents\"]\n",
    "    \n",
    "    str_llm_output = state[\"model\"].with_structured_output(GradeDocuments)\n",
    "    grade_prompt = ChatPromptTemplate.from_messages(\n",
    "        [\n",
    "            (\"system\", DOCUMENT_GRADER_PROMPT),\n",
    "            (\"human\", \"Retrieved document: \\n\\n {document} \\n\\n User question: {question}\"),\n",
    "        ]\n",
    "    )\n",
    "    \n",
    "    retriver_grader = grade_prompt | str_llm_output\n",
    "    \n",
    "    filter_documents = []\n",
    "    for d in documents:\n",
    "        score = retriver_grader.invoke({\n",
    "            \"question\":question,\n",
    "            \"document\":documents\n",
    "        })\n",
    "        grade = score.binary_score\n",
    "        if grade == \"yes\":\n",
    "            filter_documents.append(d)\n",
    "        else:\n",
    "            continue\n",
    "        \n",
    "        state[\"documents\"] = filter_documents\n",
    "        return state    \n"
   ]
  },
  {
   "cell_type": "code",
   "execution_count": 10,
   "metadata": {},
   "outputs": [],
   "source": [
    "def decide_to_genrate(state:AgentState):\n",
    "    filter_documents= state[\"documents\"] \n",
    "    \n",
    "    if not filter_documents:\n",
    "        return \"end\"\n",
    "    \n",
    "    else:\n",
    "        return \"continue\""
   ]
  },
  {
   "cell_type": "code",
   "execution_count": null,
   "id": "c872c69b",
   "metadata": {},
   "outputs": [],
   "source": []
  },
  {
   "cell_type": "code",
   "execution_count": 11,
   "id": "a577782f",
   "metadata": {},
   "outputs": [],
   "source": [
    "from langchain_core.output_parsers import StrOutputParser"
   ]
  },
  {
   "cell_type": "code",
   "execution_count": 12,
   "id": "e83173b5",
   "metadata": {},
   "outputs": [],
   "source": [
    "def gernrate_answer(state:AgentState):\n",
    "    question = state['question']\n",
    "    documents = state[\"documents\"]\n",
    "    prompt = hub.pull(\"rlm/rag-prompt\")\n",
    "    \n",
    "    chain = prompt|state[\"model\"] |StrOutputParser()\n",
    "    \n",
    "    generate = chain.invoke({\"context\":documents,\n",
    "                             \"question\":question})\n",
    "    \n",
    "    state[\"generation\"] = generate\n",
    "    \n",
    "    return state\n",
    "    "
   ]
  },
  {
   "cell_type": "code",
   "execution_count": 13,
   "id": "2b4a6ddb",
   "metadata": {},
   "outputs": [],
   "source": [
    "def check_hallucination(state:AgentState):\n",
    "    documents = state['documents']\n",
    "    generation = state['generation']\n",
    "    \n",
    "    str_llm_output = state['model'].with_structured_output(GradeHallucinations)\n",
    "    hall_prompt = ChatPromptTemplate.from_messages([\n",
    "        (\"system\",HALLUCINATION_GRADER_PROMPT),\n",
    "        (\"human\", \"Set of facts: \\n\\n {documents} \\n\\n LLM generation: {generation}\"),\n",
    "    ])\n",
    "    \n",
    "    retriver_chain = hall_prompt|str_llm_output\n",
    "    \n",
    "    score = retriver_chain.invoke({\"documents\":documents,\n",
    "                                   \"generation\":generation})\n",
    "    \n",
    "    grade = score.binary_score\n",
    "    \n",
    "    if grade ==\"yes\":\n",
    "        state[\"hallucination\"] = False\n",
    "    \n",
    "    else:\n",
    "        state[\"hallucination\"] = True\n",
    "        \n",
    "    return state        "
   ]
  },
  {
   "cell_type": "code",
   "execution_count": 14,
   "id": "43ec1a40",
   "metadata": {},
   "outputs": [],
   "source": [
    "def grade_answer(state:AgentState):\n",
    "    question  = state[\"question\"]\n",
    "    generation = state[\"generation\"]\n",
    "    \n",
    "    str_llm_output = state['model'].with_structured_output(GradeAnswer)\n",
    "    answer_prompt = ChatPromptTemplate.from_messages([\n",
    "        (\"system\",ANSWER_GRADER_PROMPT),\n",
    "        (\"human\",\"User question: \\n\\n {question} \\n\\n LLM generation: {generation}\"),\n",
    "    ]) \n",
    "    \n",
    "    chain = answer_prompt| str_llm_output\n",
    "    score  = chain.invoke({\"question\":question,\"generation\":generation})\n",
    "    \n",
    "    grade = score.binary_score\n",
    "    if grade==\"yes\":\n",
    "        state[\"valid_answer\"] = True\n",
    "    \n",
    "    else:\n",
    "        state[\"valid_answer\"] = False\n",
    "    return state        \n",
    "    "
   ]
  },
  {
   "cell_type": "code",
   "execution_count": 15,
   "id": "9504818f",
   "metadata": {},
   "outputs": [],
   "source": [
    "def build_graph():\n",
    "    workflow = StateGraph(AgentState)\n",
    "\n",
    "    # Define the nodes\n",
    "    workflow.add_node(\"create_model\", create_model)\n",
    "    workflow.add_node(\"build_vector_store\", build_vector_store)\n",
    "    workflow.add_node(\"get_relevant_documents\", get_relevent_document)\n",
    "    workflow.add_node(\"grade_documents\", grade_document)\n",
    "    workflow.add_node(\"generate_answer\", gernrate_answer)   # ✅ corrected\n",
    "    workflow.add_node(\"check_for_hallucination\", check_hallucination)\n",
    "    workflow.add_node(\"grade_answer\", grade_answer)\n",
    "\n",
    "\n",
    "    # Build graph\n",
    "    workflow.add_edge(START, \"create_model\")\n",
    "    workflow.add_edge(\"create_model\", \"build_vector_store\")\n",
    "    workflow.add_edge(\"build_vector_store\", \"get_relevant_documents\")\n",
    "    workflow.add_edge(\"get_relevant_documents\", \"grade_documents\")\n",
    "    workflow.add_conditional_edges(\n",
    "        \"grade_documents\",\n",
    "        decide_to_genrate,\n",
    "        {\n",
    "            \"continue\": \"generate_answer\",\n",
    "            \"end\": END,\n",
    "        },\n",
    "    )\n",
    "    workflow.add_edge(\"generate_answer\", \"check_for_hallucination\")\n",
    "    workflow.add_edge(\"check_for_hallucination\", \"grade_answer\")\n",
    "\n",
    "    # Compile\n",
    "    return workflow.compile()"
   ]
  },
  {
   "cell_type": "code",
   "execution_count": 16,
   "id": "540b3247",
   "metadata": {},
   "outputs": [
    {
     "data": {
      "image/png": "[encoded data removed]",
      "text/plain": [
       "<IPython.core.display.Image object>"
      ]
     },
     "execution_count": 16,
     "metadata": {},
     "output_type": "execute_result"
    }
   ],
   "source": [
    "from IPython.display import Image\n",
    "graph = build_graph()\n",
    "Image(graph.get_graph().draw_mermaid_png())\n"
   ]
  },
  {
   "cell_type": "code",
   "execution_count": 17,
   "id": "ee5da8a5",
   "metadata": {},
   "outputs": [],
   "source": [
    "import warnings\n",
    "warnings.filterwarnings(\"ignore\", category=FutureWarning, module=\"transformers.tokenization_utils_base\")\n"
   ]
  },
  {
   "cell_type": "code",
   "execution_count": 18,
   "id": "7eeb2d05",
   "metadata": {},
   "outputs": [],
   "source": [
    "import os\n",
    "os.environ[\"LANGCHAIN_TRACING_V2\"] = \"false\""
   ]
  },
  {
   "cell_type": "code",
   "execution_count": 22,
   "id": "2f7367b0",
   "metadata": {},
   "outputs": [
    {
     "name": "stderr",
     "output_type": "stream",
     "text": [
      "d:\\anaconda\\envs\\ai-agents\\lib\\site-packages\\langsmith\\client.py:272: LangSmithMissingAPIKeyWarning: API key must be provided when using hosted LangSmith API\n",
      "  warnings.warn(\n"
     ]
    },
    {
     "name": "stdout",
     "output_type": "stream",
     "text": [
      "---FINAL RESPONSE---\n",
      "Generated Answer: \n",
      "\n",
      "Tool calling is the capability of an AI agent to invoke external utilities, APIs, or functions to perform specific actions or retrieve data. In LangChain, this lets the model dynamically call these tools during a conversation or workflow. It extends the agent’s abilities beyond pure text generation.\n"
     ]
    }
   ],
   "source": [
    "response = graph.invoke({\n",
    "    \"question\": \"what is the tool calling?\"\n",
    "})\n",
    "\n",
    "print(\"---FINAL RESPONSE---\")\n",
    "\n",
    "if 'hallucination' in response.keys() and response['hallucination']:\n",
    "    print(\"Model Hallucinated, generation is not grounded in documents. \\n\")\n",
    "\n",
    "if 'valid_answer' in response.keys() and not response['valid_answer']:\n",
    "    print(\"Answer is not valid for the question. \\n\")\n",
    "\n",
    "if 'generation' in response.keys():\n",
    "    print(\"Generated Answer: \\n\")\n",
    "    print(response['generation'])"
   ]
  },
  {
   "cell_type": "code",
   "execution_count": null,
   "id": "d446d46f",
   "metadata": {},
   "outputs": [],
   "source": []
  }
 ],
 "metadata": {
  "kernelspec": {
   "display_name": "ai-agents",
   "language": "python",
   "name": "python3"
  },
  "language_info": {
   "codemirror_mode": {
    "name": "ipython",
    "version": 3
   },
   "file_extension": ".py",
   "mimetype": "text/x-python",
   "name": "python",
   "nbconvert_exporter": "python",
   "pygments_lexer": "ipython3",
   "version": "3.10.18"
  }
 },
 "nbformat": 4,
 "nbformat_minor": 5
}
